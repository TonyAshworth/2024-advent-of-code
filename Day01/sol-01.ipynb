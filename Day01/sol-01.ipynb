{
 "cells": [
  {
   "cell_type": "markdown",
   "id": "e7872026-bbae-469a-82ab-35fd7dec9dce",
   "metadata": {},
   "source": [
    "# --- Day 1: Historian Hysteria ---"
   ]
  },
  {
   "cell_type": "markdown",
   "id": "a36cf4bf-046e-407a-9aed-88444a2db691",
   "metadata": {
    "tags": []
   },
   "source": [
    "Pair up the smallest number in the left list with the smallest number in the right list, then the second-smallest left number with the second-smallest right number, and so on.\n",
    "\n",
    "Within each pair, figure out how far apart the two numbers are; you'll need to add up all of those distances."
   ]
  },
  {
   "cell_type": "markdown",
   "id": "2ee4098f-6ecf-400c-874a-75f1b8884ea2",
   "metadata": {},
   "source": [
    "## SAMPLE"
   ]
  },
  {
   "cell_type": "markdown",
   "id": "191fb862-f66e-4b55-a150-67af858fcb25",
   "metadata": {},
   "source": [
    "We're gonna run the sample first. We will open the file and loop through the lines while printing each line."
   ]
  },
  {
   "cell_type": "code",
   "execution_count": 21,
   "id": "f356c84c-be82-40e0-87f6-5f2213f72330",
   "metadata": {
    "tags": []
   },
   "outputs": [],
   "source": [
    "sampleFile = \"sample.txt\""
   ]
  },
  {
   "cell_type": "code",
   "execution_count": 22,
   "id": "f4c5e671-3f54-4efc-a3a5-a08725a2db47",
   "metadata": {
    "tags": []
   },
   "outputs": [
    {
     "name": "stdout",
     "output_type": "stream",
     "text": [
      "3   4\n",
      "4   3\n",
      "2   5\n",
      "1   3\n",
      "3   9\n",
      "3   3\n"
     ]
    }
   ],
   "source": [
    "with open(sampleFile) as file:\n",
    "    for line in file:\n",
    "        print(line.rstrip())"
   ]
  },
  {
   "cell_type": "markdown",
   "id": "2133195b-95d5-4771-9482-c43f9a64f751",
   "metadata": {},
   "source": [
    "Let's now replace the spaces in each line with a comma and then split on the comma."
   ]
  },
  {
   "cell_type": "code",
   "execution_count": 26,
   "id": "ed2ef66f-d4c1-4184-8cf6-978a0ded81df",
   "metadata": {},
   "outputs": [
    {
     "name": "stdout",
     "output_type": "stream",
     "text": [
      "[3, 4, 2, 1, 3, 3]\n",
      "[4, 3, 5, 3, 9, 3]\n"
     ]
    }
   ],
   "source": [
    "sampleFile = \"sample.txt\"\n",
    "sampleCol1 = []\n",
    "sampleCol2 = []\n",
    "\n",
    "with open(sampleFile) as file:\n",
    "    for line in file:\n",
    "        linebits = line.replace(\"   \", \",\").strip().split(\",\")\n",
    "        sampleCol1.append(int(linebits[0]))\n",
    "        sampleCol2.append(int(linebits[1]))\n",
    "\n",
    "print (sampleCol1)\n",
    "print (sampleCol2)"
   ]
  },
  {
   "cell_type": "markdown",
   "id": "e700b39c-18c6-470b-a56d-30e37d198716",
   "metadata": {},
   "source": [
    "Sort each list"
   ]
  },
  {
   "cell_type": "code",
   "execution_count": 27,
   "id": "8b9a1f83-c3dd-4ccf-b40b-d8f6ca4c8baf",
   "metadata": {
    "tags": []
   },
   "outputs": [
    {
     "name": "stdout",
     "output_type": "stream",
     "text": [
      "[1, 2, 3, 3, 3, 4]\n",
      "[3, 3, 3, 4, 5, 9]\n"
     ]
    }
   ],
   "source": [
    "sampleCol1.sort()\n",
    "sampleCol2.sort()\n",
    "\n",
    "print(sampleCol1)\n",
    "print(sampleCol2)"
   ]
  },
  {
   "cell_type": "markdown",
   "id": "cd772f82-2330-49a8-91b1-2ae7efade459",
   "metadata": {},
   "source": [
    "Loop through the lists using an index and add up the deltas."
   ]
  },
  {
   "cell_type": "code",
   "execution_count": 29,
   "id": "c8dc5900-2b43-4356-a164-3bfdf0635177",
   "metadata": {
    "tags": []
   },
   "outputs": [
    {
     "name": "stdout",
     "output_type": "stream",
     "text": [
      "11\n"
     ]
    }
   ],
   "source": [
    "totalDelta = 0\n",
    "for idx, x in enumerate(sampleCol1):\n",
    "    totalDelta += sampleCol2[idx] - x\n",
    "\n",
    "print(totalDelta)"
   ]
  },
  {
   "cell_type": "markdown",
   "id": "780ddf55-8611-4d17-bb6f-d0dd1be8b0a3",
   "metadata": {
    "tags": []
   },
   "source": [
    "11 is the sample value so we know this code works. Let's run the same logic for the first input."
   ]
  },
  {
   "cell_type": "markdown",
   "id": "74ea8426-f556-404b-90a1-0adf3674c73e",
   "metadata": {},
   "source": [
    "## PART 1"
   ]
  },
  {
   "cell_type": "code",
   "execution_count": 33,
   "id": "795b12f8-dbcf-4c2c-ac2b-964e2d7b32f1",
   "metadata": {
    "tags": []
   },
   "outputs": [
    {
     "name": "stdout",
     "output_type": "stream",
     "text": [
      "1603498 970304\n"
     ]
    }
   ],
   "source": [
    "inputOne = \"input-1.txt\"\n",
    "col1 = []\n",
    "col2 = []\n",
    "totalDelta = 0\n",
    "simpleDelta = 0\n",
    "\n",
    "with open(inputOne) as file:\n",
    "    for line in file:\n",
    "        linebits = line.replace(\"   \", \",\").strip().split(\",\")\n",
    "        col1.append(int(linebits[0]))\n",
    "        col2.append(int(linebits[1]))\n",
    "\n",
    "col1.sort()\n",
    "col2.sort()\n",
    "\n",
    "for idx, x in enumerate(col1):\n",
    "    high = max(x, col2[idx])\n",
    "    low = min(x, col2[idx])\n",
    "    totalDelta += high - low\n",
    "    simpleDelta += col2[idx] - x\n",
    "\n",
    "print(totalDelta, simpleDelta)"
   ]
  },
  {
   "cell_type": "markdown",
   "id": "a0899232-c625-4476-b02b-54c88c64c9dc",
   "metadata": {},
   "source": [
    "1603498 was the right answer for my input so moving onto part 2 of day 1. I suspected there would be some trick to the math because the puzzle talked about the difference between the numbers so I added the high/low bit before confirming this. Afterwards I went back and added the sample delta just to verify my concerns."
   ]
  },
  {
   "cell_type": "markdown",
   "id": "459c6ca1-c415-422a-8909-20875a8cebf1",
   "metadata": {
    "tags": []
   },
   "source": [
    "## PART 2"
   ]
  },
  {
   "cell_type": "markdown",
   "id": "f51148d8-f8b0-46be-82a4-e9e94b8cf3d8",
   "metadata": {},
   "source": [
    "This time, you'll need to figure out exactly how often each number from the left list appears in the right list. Calculate a total similarity score by adding up each number in the left list after multiplying it by the number of times that number appears in the right list."
   ]
  },
  {
   "cell_type": "markdown",
   "id": "2ab3c894-62fb-4eb6-8457-28bf201e3c0f",
   "metadata": {},
   "source": [
    "Input is the same"
   ]
  },
  {
   "cell_type": "markdown",
   "id": "bf6da757-5ea0-4caa-a5a9-10ff2105d7e1",
   "metadata": {
    "tags": []
   },
   "source": [
    "We'll proceed similarly as before by reading in the file and sorting the two lists. From there we should probably do a single loop through each list."
   ]
  },
  {
   "cell_type": "code",
   "execution_count": 51,
   "id": "1ab225e2-e1b5-49e1-809b-4200a11a20a8",
   "metadata": {
    "tags": []
   },
   "outputs": [
    {
     "name": "stdout",
     "output_type": "stream",
     "text": [
      "[1, 2, 3, 3, 3, 4]\n",
      "[3, 3, 3, 4, 5, 9]\n"
     ]
    }
   ],
   "source": [
    "inputOne = \"sample.txt\"\n",
    "col1 = []\n",
    "col2 = []\n",
    "col2dict = {}\n",
    "similarityScore = 0\n",
    "\n",
    "with open(inputOne) as file:\n",
    "    for line in file:\n",
    "        linebits = line.replace(\"   \", \",\").strip().split(\",\")\n",
    "        col1.append(int(linebits[0]))\n",
    "        col2.append(int(linebits[1]))\n",
    "\n",
    "col1.sort()\n",
    "col2.sort()\n",
    "\n",
    "print(col1)\n",
    "print(col2)"
   ]
  },
  {
   "cell_type": "markdown",
   "id": "29b0be79-cdb9-4b70-82f8-631acc0a67d2",
   "metadata": {},
   "source": [
    "We'll start by looping through the second column and creating a dictionary for each value and the value being the number of times that value appears. Then we'll loop through the first list and do the math."
   ]
  },
  {
   "cell_type": "code",
   "execution_count": 52,
   "id": "d1c810f4-c902-4ce8-a870-9e177d1e4d07",
   "metadata": {
    "tags": []
   },
   "outputs": [
    {
     "name": "stdout",
     "output_type": "stream",
     "text": [
      "31\n"
     ]
    }
   ],
   "source": [
    "col2dict.setdefault(0)\n",
    "for idx, x in enumerate(col2):\n",
    "    value = col2dict.get(x)\n",
    "    col2dict[x] = 1 + (value if value != None else 0)\n",
    "\n",
    "for idx, x in enumerate(col1):\n",
    "    value = col2dict.get(x)\n",
    "    similarityScore += x * (value if value != None else 0)\n",
    "\n",
    "print(similarityScore)"
   ]
  },
  {
   "cell_type": "markdown",
   "id": "0e8bbd9f-b0cc-498f-b8c8-68b31aeba892",
   "metadata": {},
   "source": [
    "#### Part 2 with real input file"
   ]
  },
  {
   "cell_type": "code",
   "execution_count": 54,
   "id": "8027c84d-48aa-426c-8f2f-65847be658a6",
   "metadata": {
    "tags": []
   },
   "outputs": [
    {
     "name": "stdout",
     "output_type": "stream",
     "text": [
      "25574739\n"
     ]
    }
   ],
   "source": [
    "inputOne = \"input-1.txt\"\n",
    "col1 = []\n",
    "col2 = []\n",
    "col2dict = {}\n",
    "similarityScore = 0\n",
    "\n",
    "with open(inputOne) as file:\n",
    "    for line in file:\n",
    "        linebits = line.replace(\"   \", \",\").strip().split(\",\")\n",
    "        col1.append(int(linebits[0]))\n",
    "        col2.append(int(linebits[1]))\n",
    "\n",
    "col1.sort()\n",
    "col2.sort()\n",
    "\n",
    "for idx, x in enumerate(col2):\n",
    "    value = col2dict.get(x)\n",
    "    col2dict[x] = 1 + (value if value != None else 0)\n",
    "\n",
    "for idx, x in enumerate(col1):\n",
    "    value = col2dict.get(x)\n",
    "    similarityScore += x * (value if value != None else 0)\n",
    "\n",
    "print(similarityScore)"
   ]
  },
  {
   "cell_type": "markdown",
   "id": "c7e6ce38-370d-4932-a384-042d8fbb21ec",
   "metadata": {},
   "source": [
    "25574739 is the correct answer!"
   ]
  }
 ],
 "metadata": {
  "kernelspec": {
   "display_name": "Python 3 (ipykernel)",
   "language": "python",
   "name": "python3"
  },
  "language_info": {
   "codemirror_mode": {
    "name": "ipython",
    "version": 3
   },
   "file_extension": ".py",
   "mimetype": "text/x-python",
   "name": "python",
   "nbconvert_exporter": "python",
   "pygments_lexer": "ipython3",
   "version": "3.7.15"
  }
 },
 "nbformat": 4,
 "nbformat_minor": 5
}
