{
 "cells": [
  {
   "cell_type": "markdown",
   "id": "d1d6fbc0-6c00-4922-a492-48a5d7ff6bf7",
   "metadata": {},
   "source": [
    "# --- Day 2: Red-Nosed Reports ---"
   ]
  },
  {
   "cell_type": "markdown",
   "id": "4846f94e-d5a4-4786-8b34-9361ba7dd1c2",
   "metadata": {},
   "source": [
    "### Sample"
   ]
  },
  {
   "cell_type": "raw",
   "id": "e68bb483-9317-466a-a525-4d58ff161850",
   "metadata": {},
   "source": [
    "The unusual data (your puzzle input) consists of many reports, one report per line. Each report is a list of numbers called levels that are separated by spaces. For example:\n",
    "\n",
    "7 6 4 2 1\n",
    "1 2 7 8 9\n",
    "9 7 6 2 1\n",
    "1 3 2 4 5\n",
    "8 6 4 4 1\n",
    "1 3 6 7 9\n",
    "\n",
    "This example data contains six reports each containing five levels.\n",
    "\n",
    "The engineers are trying to figure out which reports are safe. The Red-Nosed reactor safety systems can only tolerate levels that are either gradually increasing or gradually decreasing. So, a report only counts as safe if both of the following are true:\n",
    "\n",
    "The levels are either all increasing or all decreasing.\n",
    "Any two adjacent levels differ by at least one and at most three.\n",
    "In the example above, the reports can be found safe or unsafe by checking those rules:\n",
    "\n",
    "7 6 4 2 1: Safe because the levels are all decreasing by 1 or 2.\n",
    "1 2 7 8 9: Unsafe because 2 7 is an increase of 5.\n",
    "9 7 6 2 1: Unsafe because 6 2 is a decrease of 4.\n",
    "1 3 2 4 5: Unsafe because 1 3 is increasing but 3 2 is decreasing.\n",
    "8 6 4 4 1: Unsafe because 4 4 is neither an increase or a decrease.\n",
    "1 3 6 7 9: Safe because the levels are all increasing by 1, 2, or 3.\n",
    "\n",
    "So, in this example, 2 reports are safe.\n",
    "\n",
    "Analyze the unusual data from the engineers. How many reports are safe?"
   ]
  },
  {
   "cell_type": "markdown",
   "id": "989d5045-e773-409e-8ac4-c82e28c8d224",
   "metadata": {
    "tags": []
   },
   "source": [
    "#### Sample Workflow"
   ]
  },
  {
   "cell_type": "code",
   "execution_count": 19,
   "id": "97be7997-1b8c-4e52-911d-a5669b7c5cce",
   "metadata": {
    "tags": []
   },
   "outputs": [
    {
     "name": "stdout",
     "output_type": "stream",
     "text": [
      "7 6 4 2 1\n",
      "1 2 7 8 9\n",
      "9 7 6 2 1\n",
      "1 3 2 4 5\n",
      "8 6 4 4 1\n",
      "1 3 6 7 9\n"
     ]
    }
   ],
   "source": [
    "sampleFile = \"sample.txt\"\n",
    "with open(sampleFile) as file:\n",
    "    for line in file:\n",
    "        print(line.rstrip())"
   ]
  },
  {
   "cell_type": "code",
   "execution_count": 20,
   "id": "cdad9915-455e-4fce-8ab0-86af734ba664",
   "metadata": {
    "tags": []
   },
   "outputs": [
    {
     "name": "stdout",
     "output_type": "stream",
     "text": [
      "[7, 6, 4, 2, 1] desc True\n",
      "[1, 2, 7, 8, 9] asc False\n",
      "[9, 7, 6, 2, 1] desc False\n",
      "[1, 3, 2, 4, 5] asc False\n",
      "[8, 6, 4, 4, 1] desc False\n",
      "[1, 3, 6, 7, 9] asc True\n",
      "valid row count: 2\n"
     ]
    }
   ],
   "source": [
    "sampleFile = \"sample.txt\"\n",
    "safeCount = 0\n",
    "\n",
    "with open(sampleFile) as file:\n",
    "    for line in file:\n",
    "        direction = None\n",
    "        isRowValid = False\n",
    "        lineArray = [int(x) for x in line.rstrip().split(\" \")]\n",
    "\n",
    "        if lineArray[0] < lineArray[-1]:\n",
    "            direction = \"asc\"\n",
    "        else:\n",
    "            direction = \"desc\"\n",
    "            \n",
    "        for idx, report in enumerate(lineArray):\n",
    "            if idx == 0:\n",
    "                continue\n",
    "            \n",
    "            prev = lineArray[idx - 1]\n",
    "            if prev == report:\n",
    "                break\n",
    "            elif (direction == \"asc\" and report < prev) or (direction == \"desc\" and report > prev):\n",
    "                break\n",
    "            elif abs(report - prev) > 3:\n",
    "                break\n",
    "            elif len(lineArray) == idx + 1:\n",
    "                safeCount += 1\n",
    "                isRowValid = True\n",
    "                \n",
    "        print(lineArray, direction, isRowValid)\n",
    "\n",
    "print(\"valid row count:\", safeCount)"
   ]
  },
  {
   "cell_type": "code",
   "execution_count": 21,
   "id": "30248765-8665-47b2-b828-bc2803d9b727",
   "metadata": {
    "tags": []
   },
   "outputs": [
    {
     "name": "stdout",
     "output_type": "stream",
     "text": [
      "valid row count: 257\n"
     ]
    }
   ],
   "source": [
    "inputFile = \"input.txt\"\n",
    "safeCount = 0\n",
    "\n",
    "with open(inputFile) as file:\n",
    "    for line in file:\n",
    "        direction = None\n",
    "        isRowValid = False\n",
    "        lineArray = [int(x) for x in line.rstrip().split(\" \")]\n",
    "\n",
    "        if lineArray[0] < lineArray[-1]:\n",
    "            direction = \"asc\"\n",
    "        else:\n",
    "            direction = \"desc\"\n",
    "            \n",
    "        for idx, report in enumerate(lineArray):\n",
    "            if idx == 0:\n",
    "                continue\n",
    "            \n",
    "            prev = lineArray[idx - 1]\n",
    "            if prev == report:\n",
    "                break\n",
    "            elif (direction == \"asc\" and report < prev) or (direction == \"desc\" and report > prev):\n",
    "                break\n",
    "            elif abs(report - prev) > 3:\n",
    "                break\n",
    "            elif len(lineArray) == idx + 1:\n",
    "                safeCount += 1\n",
    "                isRowValid = True\n",
    "\n",
    "print(\"valid row count:\", safeCount)"
   ]
  },
  {
   "cell_type": "markdown",
   "id": "1837f420-1073-411f-abe6-d495adee1734",
   "metadata": {},
   "source": [
    "## --- Part Two ---\n",
    "\n",
    "The engineers are surprised by the low number of safe reports until they realize they forgot to tell you about the Problem Dampener.\n",
    "\n",
    "The Problem Dampener is a reactor-mounted module that lets the reactor safety systems tolerate a single bad level in what would otherwise be a safe report. It's like the bad level never happened!\n",
    "\n",
    "Now, the same rules apply as before, except if removing a single level from an unsafe report would make it safe, the report instead counts as safe."
   ]
  },
  {
   "cell_type": "markdown",
   "id": "54cc5354-d533-47d4-807d-960e4e237e80",
   "metadata": {
    "tags": []
   },
   "source": [
    "### Run this with the sample data"
   ]
  },
  {
   "cell_type": "markdown",
   "id": "b6a89ec0-370f-446d-820b-6bf2e9599c73",
   "metadata": {
    "tags": []
   },
   "source": [
    "#### Create function so we can do limit code duplication"
   ]
  },
  {
   "cell_type": "code",
   "execution_count": 22,
   "id": "5e97af56-994d-4e39-b1c0-961c5bffd31d",
   "metadata": {
    "tags": []
   },
   "outputs": [],
   "source": [
    "def isLineValid(lineArray, removeIdx = -1):\n",
    "    direction = None\n",
    "    \n",
    "    if removeIdx != -1:\n",
    "        del lineArray[removeIdx]\n",
    "    \n",
    "    for idx, report in enumerate(lineArray):\n",
    "        if idx == 0:\n",
    "            if lineArray[0] < lineArray[-1]:\n",
    "                direction = \"asc\"\n",
    "            else:\n",
    "                direction = \"desc\"\n",
    "            continue\n",
    "\n",
    "        prev = lineArray[idx - 1]\n",
    "\n",
    "        if prev == report:\n",
    "            return False\n",
    "        elif (direction == \"asc\" and report < prev) or (direction == \"desc\" and report > prev):\n",
    "            return False\n",
    "        elif abs(report - prev) > 3:\n",
    "            return False\n",
    "\n",
    "    return True"
   ]
  },
  {
   "cell_type": "code",
   "execution_count": 23,
   "id": "8bc6e537-f9e3-417f-b9ef-4ceecf34f525",
   "metadata": {
    "tags": []
   },
   "outputs": [
    {
     "name": "stdout",
     "output_type": "stream",
     "text": [
      "valid row count: 4\n"
     ]
    }
   ],
   "source": [
    "sampleFile = \"sample.txt\"\n",
    "safeCount = 0\n",
    "\n",
    "with open(sampleFile) as file:\n",
    "    for line in file:\n",
    "        lineArray = [int(x) for x in line.rstrip().split(\" \")]\n",
    "        isValid = isLineValid(lineArray)\n",
    "\n",
    "        if isValid == False:\n",
    "            for idx, report in enumerate(lineArray):\n",
    "                copy = lineArray.copy()\n",
    "                del copy[idx]\n",
    "                isValid = isLineValid(copy)\n",
    "                if isValid == True:\n",
    "                    break\n",
    "\n",
    "        if isValid:\n",
    "            safeCount += 1\n",
    "\n",
    "print(\"valid row count:\", safeCount)"
   ]
  },
  {
   "cell_type": "code",
   "execution_count": 24,
   "id": "12bac175-f337-425b-869c-b05ae68d08c1",
   "metadata": {
    "tags": []
   },
   "outputs": [
    {
     "name": "stdout",
     "output_type": "stream",
     "text": [
      "valid row count: 328\n"
     ]
    }
   ],
   "source": [
    "inputFile = \"input.txt\"\n",
    "safeCount = 0\n",
    "\n",
    "with open(inputFile) as file:\n",
    "    for line in file:\n",
    "        lineArray = [int(x) for x in line.rstrip().split(\" \")]\n",
    "        isValid = isLineValid(lineArray)\n",
    "\n",
    "        if isValid == False:\n",
    "            for idx, report in enumerate(lineArray):\n",
    "                copy = lineArray.copy()\n",
    "                del copy[idx]\n",
    "                isValid = isLineValid(copy)\n",
    "                if isValid == True:\n",
    "                    break\n",
    "\n",
    "        if isValid:\n",
    "            safeCount += 1\n",
    "\n",
    "print(\"valid row count:\", safeCount)"
   ]
  }
 ],
 "metadata": {
  "kernelspec": {
   "display_name": "Python 3 (ipykernel)",
   "language": "python",
   "name": "python3"
  },
  "language_info": {
   "codemirror_mode": {
    "name": "ipython",
    "version": 3
   },
   "file_extension": ".py",
   "mimetype": "text/x-python",
   "name": "python",
   "nbconvert_exporter": "python",
   "pygments_lexer": "ipython3",
   "version": "3.7.15"
  }
 },
 "nbformat": 4,
 "nbformat_minor": 5
}
